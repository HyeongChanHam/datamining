{
 "cells": [
  {
   "cell_type": "code",
   "execution_count": 1,
   "metadata": {},
   "outputs": [],
   "source": [
    "import numpy as np\n",
    "import matplotlib.pyplot as plt\n",
    "import pandas as pd"
   ]
  },
  {
   "cell_type": "code",
   "execution_count": 2,
   "metadata": {},
   "outputs": [
    {
     "name": "stdout",
     "output_type": "stream",
     "text": [
      "1.0.3\n"
     ]
    }
   ],
   "source": [
    "import pandas as pd\n",
    "print(pd.__version__)"
   ]
  },
  {
   "cell_type": "code",
   "execution_count": 3,
   "metadata": {},
   "outputs": [
    {
     "name": "stdout",
     "output_type": "stream",
     "text": [
      "# conda environments:\n",
      "#\n",
      "base                     C:\\Users\\hyoungchan\\Anaconda3\n",
      "COVID19                  C:\\Users\\hyoungchan\\Anaconda3\\envs\\COVID19\n",
      "Lung_Cancer              C:\\Users\\hyoungchan\\Anaconda3\\envs\\Lung_Cancer\n",
      "blockchain               C:\\Users\\hyoungchan\\Anaconda3\\envs\\blockchain\n",
      "covid                    C:\\Users\\hyoungchan\\Anaconda3\\envs\\covid\n",
      "datamining            *  C:\\Users\\hyoungchan\\Anaconda3\\envs\\datamining\n",
      "lung                     C:\\Users\\hyoungchan\\Anaconda3\\envs\\lung\n",
      "\n"
     ]
    }
   ],
   "source": [
    "!conda env list\n",
    "#created env \"datamining\""
   ]
  },
  {
   "cell_type": "code",
   "execution_count": 4,
   "metadata": {},
   "outputs": [
    {
     "name": "stdout",
     "output_type": "stream",
     "text": [
      "Hello,world!\n"
     ]
    }
   ],
   "source": [
    "print(\"Hello,world!\")"
   ]
  },
  {
   "cell_type": "code",
   "execution_count": null,
   "metadata": {},
   "outputs": [],
   "source": []
  }
 ],
 "metadata": {
  "kernelspec": {
   "display_name": "Python 3",
   "language": "python",
   "name": "python3"
  },
  "language_info": {
   "codemirror_mode": {
    "name": "ipython",
    "version": 3
   },
   "file_extension": ".py",
   "mimetype": "text/x-python",
   "name": "python",
   "nbconvert_exporter": "python",
   "pygments_lexer": "ipython3",
   "version": "3.8.2"
  }
 },
 "nbformat": 4,
 "nbformat_minor": 4
}
