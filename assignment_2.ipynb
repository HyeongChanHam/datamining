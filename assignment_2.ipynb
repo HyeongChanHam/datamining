{
  "nbformat": 4,
  "nbformat_minor": 0,
  "metadata": {
    "colab": {
      "name": "assignment 2.ipynb",
      "provenance": [],
      "authorship_tag": "ABX9TyPQDEvEC8shq0o/q6cAJT9b",
      "include_colab_link": true
    },
    "kernelspec": {
      "name": "python3",
      "display_name": "Python 3"
    }
  },
  "cells": [
    {
      "cell_type": "markdown",
      "metadata": {
        "id": "view-in-github",
        "colab_type": "text"
      },
      "source": [
        "<a href=\"https://colab.research.google.com/github/HyeongChanHam/datamining/blob/master/assignment_2.ipynb\" target=\"_parent\"><img src=\"https://colab.research.google.com/assets/colab-badge.svg\" alt=\"Open In Colab\"/></a>"
      ]
    },
    {
      "cell_type": "code",
      "metadata": {
        "id": "F2KCPUIzJ_Tg",
        "colab_type": "code",
        "colab": {}
      },
      "source": [
        "import pandas as pd\n",
        "import numpy as np\n",
        "\n",
        "#data build\n",
        "vm = [26.7, 26.9, 27.6, 26.9, 27.2, 27.0, 26.2]\n",
        "cbi = [1.14, 1.41, 1.13, 1.37, 1.14, 1.26, 1.28]\n",
        "di = [87.8, 87.0, 88.0, 87.1, 87.9, 87.0, 88.0]\n",
        "df = {'vm':vm, 'cbi':cbi, 'di':di}\n",
        "df = pd.DataFrame(df)\n",
        "\n",
        "#split y\n",
        "y = df['di']\n",
        "\n",
        "#split and add one column for intercept variable\n",
        "x = df[df.columns[0:2]]\n",
        "one = np.array([1 for _ in range(7)])\n",
        "o = pd.DataFrame(one)\n",
        "x = pd.concat([o, x], axis=1)"
      ],
      "execution_count": 0,
      "outputs": []
    },
    {
      "cell_type": "code",
      "metadata": {
        "id": "-x28To5Gsa79",
        "colab_type": "code",
        "colab": {}
      },
      "source": [
        "#regression coefficients vector beta\n",
        "beta = np.linalg.inv(x.T.dot(x)).dot(x.T).dot(y)"
      ],
      "execution_count": 0,
      "outputs": []
    },
    {
      "cell_type": "code",
      "metadata": {
        "id": "TcbhRcAjKoX4",
        "colab_type": "code",
        "colab": {}
      },
      "source": [
        "#to find V_ii, i_th diagonal of matrix (X^TX)^-1\n",
        "XTX_inv = np.linalg.inv(x.T.dot(x))"
      ],
      "execution_count": 0,
      "outputs": []
    },
    {
      "cell_type": "code",
      "metadata": {
        "id": "KzTHtMm4cWUV",
        "colab_type": "code",
        "colab": {}
      },
      "source": [
        "#to find sample variance s^2 from Y\n",
        "y_s = y-y.mean()\n",
        "s = np.sqrt(np.square(y_s).sum()/(len(y_s)-1))"
      ],
      "execution_count": 0,
      "outputs": []
    }
  ]
}