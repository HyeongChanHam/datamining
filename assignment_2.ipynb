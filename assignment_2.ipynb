{
  "nbformat": 4,
  "nbformat_minor": 0,
  "metadata": {
    "colab": {
      "name": "assignment 2.ipynb",
      "provenance": [],
      "authorship_tag": "ABX9TyP/o/dyf0sJFFJu+za34qjR",
      "include_colab_link": true
    },
    "kernelspec": {
      "name": "python3",
      "display_name": "Python 3"
    }
  },
  "cells": [
    {
      "cell_type": "markdown",
      "metadata": {
        "id": "view-in-github",
        "colab_type": "text"
      },
      "source": [
        "<a href=\"https://colab.research.google.com/github/HyeongChanHam/datamining/blob/master/assignment_2.ipynb\" target=\"_parent\"><img src=\"https://colab.research.google.com/assets/colab-badge.svg\" alt=\"Open In Colab\"/></a>"
      ]
    },
    {
      "cell_type": "markdown",
      "metadata": {
        "id": "jSoeb4cwQ0kV",
        "colab_type": "text"
      },
      "source": [
        "question 8.(b)"
      ]
    },
    {
      "cell_type": "code",
      "metadata": {
        "id": "F2KCPUIzJ_Tg",
        "colab_type": "code",
        "colab": {}
      },
      "source": [
        "import pandas as pd\n",
        "import numpy as np\n",
        "\n",
        "#data build\n",
        "vm = [26.7, 26.9, 27.6, 26.9, 27.2, 27.0, 26.2]\n",
        "cbi = [1.14, 1.41, 1.13, 1.37, 1.14, 1.26, 1.28]\n",
        "di = [87.8, 87.0, 88.0, 87.1, 87.9, 87.0, 88.0]\n",
        "df = {'vm':vm, 'cbi':cbi, 'di':di}\n",
        "df = pd.DataFrame(df)\n",
        "\n",
        "#split y\n",
        "y = df['di']\n",
        "\n",
        "#split and add one column for intercept variable\n",
        "x = df[df.columns[0:2]]\n",
        "one = np.array([1 for _ in range(7)])\n",
        "o = pd.DataFrame(one)\n",
        "x = pd.concat([o, x], axis=1)"
      ],
      "execution_count": 0,
      "outputs": []
    },
    {
      "cell_type": "code",
      "metadata": {
        "id": "-x28To5Gsa79",
        "colab_type": "code",
        "colab": {}
      },
      "source": [
        "#regression coefficients vector beta\n",
        "beta = np.linalg.inv(x.T.dot(x)).dot(x.T).dot(y)"
      ],
      "execution_count": 0,
      "outputs": []
    },
    {
      "cell_type": "code",
      "metadata": {
        "id": "TcbhRcAjKoX4",
        "colab_type": "code",
        "colab": {}
      },
      "source": [
        "#to find V_ii, i_th diagonal of matrix (X^TX)^-1\n",
        "XTX_inv = np.linalg.inv(x.T.dot(x))"
      ],
      "execution_count": 0,
      "outputs": []
    },
    {
      "cell_type": "code",
      "metadata": {
        "id": "KzTHtMm4cWUV",
        "colab_type": "code",
        "colab": {}
      },
      "source": [
        "#to find sample variance s^2 from Y\n",
        "y_s = y-y.mean()\n",
        "s = np.sqrt(np.square(y_s).sum()/(len(y_s)-1))"
      ],
      "execution_count": 0,
      "outputs": []
    },
    {
      "cell_type": "markdown",
      "metadata": {
        "id": "cZufskw6QvQu",
        "colab_type": "text"
      },
      "source": [
        "question 5.(c)"
      ]
    },
    {
      "cell_type": "code",
      "metadata": {
        "id": "ULwcZIcZPBYn",
        "colab_type": "code",
        "colab": {}
      },
      "source": [
        "import numpy as np"
      ],
      "execution_count": 0,
      "outputs": []
    },
    {
      "cell_type": "code",
      "metadata": {
        "id": "jddp2rEyPB-V",
        "colab_type": "code",
        "colab": {}
      },
      "source": [
        "#correlation coefficient matrix\n",
        "C = np.array([[24.8, -7.3, 15.1],\n",
        "     [-7.3, 11.2, 4.6],\n",
        "     [15.1, 4.6, 39.4]])\n",
        "\n",
        "sigma = [4.979, 3.347, 6.227]"
      ],
      "execution_count": 0,
      "outputs": []
    },
    {
      "cell_type": "code",
      "metadata": {
        "id": "XhPaT7lwPZoN",
        "colab_type": "code",
        "colab": {}
      },
      "source": [
        "corr_coef = np.array([[0.0 for _ in range(3)] for _ in range(3)])"
      ],
      "execution_count": 0,
      "outputs": []
    },
    {
      "cell_type": "code",
      "metadata": {
        "id": "1QJg9JmLPexK",
        "colab_type": "code",
        "colab": {}
      },
      "source": [
        "for i in range(3):\n",
        "    for j in range(3):\n",
        "        corr_coef[i][j] = C[i][j]/(sigma[i]*sigma[j])"
      ],
      "execution_count": 0,
      "outputs": []
    },
    {
      "cell_type": "code",
      "metadata": {
        "id": "LBHur77wP597",
        "colab_type": "code",
        "colab": {
          "base_uri": "https://localhost:8080/",
          "height": 70
        },
        "outputId": "61c488d5-50dc-421c-9141-709c564436c5"
      },
      "source": [
        "corr_coef"
      ],
      "execution_count": 23,
      "outputs": [
        {
          "output_type": "execute_result",
          "data": {
            "text/plain": [
              "array([[ 1.00038559, -0.43805135,  0.48703027],\n",
              "       [-0.43805135,  0.99978496,  0.22071063],\n",
              "       [ 0.48703027,  0.22071063,  1.01610477]])"
            ]
          },
          "metadata": {
            "tags": []
          },
          "execution_count": 23
        }
      ]
    }
  ]
}